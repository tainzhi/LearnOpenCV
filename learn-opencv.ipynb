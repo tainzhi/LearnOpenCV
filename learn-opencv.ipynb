{
 "cells": [
  {
   "cell_type": "markdown",
   "metadata": {},
   "source": [
    "### install 开发环境\n",
    "参考 [OpenCV-python](https://docs.opencv.org/4.8.0/d5/de5/tutorial_py_setup_in_windows.html)\n",
    "\n",
    "1. vscode\n",
    ">1. 从python profile template新建python profile\n",
    ">2. install jupyter plugin\n",
    "2. install python\n",
    ">1. `winget install python3` 安装好后python自动加入到环境变量，重启terminal和vscode即可生效\n",
    ">2. `pip3 install numpy matplotlib  opencv-contrib-python`"
   ]
  },
  {
   "cell_type": "code",
   "execution_count": 1,
   "metadata": {},
   "outputs": [
    {
     "name": "stdout",
     "output_type": "stream",
     "text": [
      "4.8.0\n"
     ]
    }
   ],
   "source": [
    "import cv2 as cv\n",
    "print( cv.__version__)"
   ]
  },
  {
   "cell_type": "markdown",
   "metadata": {},
   "source": []
  }
 ],
 "metadata": {
  "kernelspec": {
   "display_name": "Python 3",
   "language": "python",
   "name": "python3"
  },
  "language_info": {
   "codemirror_mode": {
    "name": "ipython",
    "version": 3
   },
   "file_extension": ".py",
   "mimetype": "text/x-python",
   "name": "python",
   "nbconvert_exporter": "python",
   "pygments_lexer": "ipython3",
   "version": "3.10.11"
  },
  "orig_nbformat": 4
 },
 "nbformat": 4,
 "nbformat_minor": 2
}
